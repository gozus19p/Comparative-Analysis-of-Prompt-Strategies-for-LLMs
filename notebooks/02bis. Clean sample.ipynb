{
 "cells": [
  {
   "cell_type": "code",
   "id": "initial_id",
   "metadata": {
    "collapsed": true,
    "ExecuteTime": {
     "end_time": "2024-09-04T14:01:57.376325Z",
     "start_time": "2024-09-04T14:01:55.946976Z"
    }
   },
   "source": "!pip install pandas",
   "outputs": [
    {
     "name": "stdout",
     "output_type": "stream",
     "text": [
      "Requirement already satisfied: pandas in /Users/manuel/PycharmProjects/benchmark/.venv/lib/python3.10/site-packages (2.2.2)\r\n",
      "Requirement already satisfied: numpy>=1.22.4 in /Users/manuel/PycharmProjects/benchmark/.venv/lib/python3.10/site-packages (from pandas) (1.26.4)\r\n",
      "Requirement already satisfied: python-dateutil>=2.8.2 in /Users/manuel/PycharmProjects/benchmark/.venv/lib/python3.10/site-packages (from pandas) (2.9.0.post0)\r\n",
      "Requirement already satisfied: pytz>=2020.1 in /Users/manuel/PycharmProjects/benchmark/.venv/lib/python3.10/site-packages (from pandas) (2024.1)\r\n",
      "Requirement already satisfied: tzdata>=2022.7 in /Users/manuel/PycharmProjects/benchmark/.venv/lib/python3.10/site-packages (from pandas) (2024.1)\r\n",
      "Requirement already satisfied: six>=1.5 in /Users/manuel/PycharmProjects/benchmark/.venv/lib/python3.10/site-packages (from python-dateutil>=2.8.2->pandas) (1.16.0)\r\n",
      "\r\n",
      "\u001B[1m[\u001B[0m\u001B[34;49mnotice\u001B[0m\u001B[1;39;49m]\u001B[0m\u001B[39;49m A new release of pip is available: \u001B[0m\u001B[31;49m23.2.1\u001B[0m\u001B[39;49m -> \u001B[0m\u001B[32;49m24.2\u001B[0m\r\n",
      "\u001B[1m[\u001B[0m\u001B[34;49mnotice\u001B[0m\u001B[1;39;49m]\u001B[0m\u001B[39;49m To update, run: \u001B[0m\u001B[32;49mpip install --upgrade pip\u001B[0m\r\n"
     ]
    }
   ],
   "execution_count": 1
  },
  {
   "metadata": {
    "ExecuteTime": {
     "end_time": "2024-09-04T14:02:59.829803Z",
     "start_time": "2024-09-04T14:02:59.774785Z"
    }
   },
   "cell_type": "code",
   "source": [
    "import pandas as pd\n",
    "\n",
    "dataframe: pd.DataFrame = pd.read_csv('../resources/sampled_reviews_with_output_multicall_phi3_medium.csv')\n",
    "dataframe.head()"
   ],
   "id": "9bb40077d91fb56c",
   "outputs": [
    {
     "data": {
      "text/plain": [
       "   Unnamed: 0                                             review sentiment  \\\n",
       "0         434  1st watched 2/9/2008, 4 out of 10(Dir-J.S. Car...  negative   \n",
       "1        3278  Following on directly from the last episode of...  positive   \n",
       "2         967  But at least this movie got what it deserved -...  negative   \n",
       "3        1982  A few buddies and myself have the strange hobb...  negative   \n",
       "4        2902  On a routine mission in Iraq a group of Delta ...  positive   \n",
       "\n",
       "                                            entities  \\\n",
       "0  [{'label': 'ORG', 'value': 'qwest'}, {'label':...   \n",
       "1  [{'label': 'PERSON', 'value': 'Hacker'}, {'lab...   \n",
       "2  [{'label': 'PERSON', 'value': 'Mike'}, {'label...   \n",
       "3  [{'label': 'PERSON', 'value': 'Larry Buchanan'...   \n",
       "4  [{'label': 'ORG', 'value': 'Delta'}, {'label':...   \n",
       "\n",
       "                                                json  progressive_index  \\\n",
       "0  {\"review\": \"1st watched 2/9/2008, 4 out of 10(...                435   \n",
       "1  {\"review\": \"Following on directly from the las...               3279   \n",
       "2  {\"review\": \"But at least this movie got what i...                968   \n",
       "3  {\"review\": \"A few buddies and myself have the ...               1983   \n",
       "4  {\"review\": \"On a routine mission in Iraq a gro...               2903   \n",
       "\n",
       "                                              output  \n",
       "0   ```json\\n{\\n  \"sentiment\": \"negative\",\\n  \"re...  \n",
       "1   ```json\\n{\\n  \"sentiment\": \"positive\",\\n  \"re...  \n",
       "2   ```json\\n{\\n  \"sentiment\": \"NEGATIVE\",\\n  \"re...  \n",
       "3   Based on the review text provided, here is th...  \n",
       "4   ```json\\n{\\n  \"sentiment\": \"positive\",\\n  \"re...  "
      ],
      "text/html": [
       "<div>\n",
       "<style scoped>\n",
       "    .dataframe tbody tr th:only-of-type {\n",
       "        vertical-align: middle;\n",
       "    }\n",
       "\n",
       "    .dataframe tbody tr th {\n",
       "        vertical-align: top;\n",
       "    }\n",
       "\n",
       "    .dataframe thead th {\n",
       "        text-align: right;\n",
       "    }\n",
       "</style>\n",
       "<table border=\"1\" class=\"dataframe\">\n",
       "  <thead>\n",
       "    <tr style=\"text-align: right;\">\n",
       "      <th></th>\n",
       "      <th>Unnamed: 0</th>\n",
       "      <th>review</th>\n",
       "      <th>sentiment</th>\n",
       "      <th>entities</th>\n",
       "      <th>json</th>\n",
       "      <th>progressive_index</th>\n",
       "      <th>output</th>\n",
       "    </tr>\n",
       "  </thead>\n",
       "  <tbody>\n",
       "    <tr>\n",
       "      <th>0</th>\n",
       "      <td>434</td>\n",
       "      <td>1st watched 2/9/2008, 4 out of 10(Dir-J.S. Car...</td>\n",
       "      <td>negative</td>\n",
       "      <td>[{'label': 'ORG', 'value': 'qwest'}, {'label':...</td>\n",
       "      <td>{\"review\": \"1st watched 2/9/2008, 4 out of 10(...</td>\n",
       "      <td>435</td>\n",
       "      <td>```json\\n{\\n  \"sentiment\": \"negative\",\\n  \"re...</td>\n",
       "    </tr>\n",
       "    <tr>\n",
       "      <th>1</th>\n",
       "      <td>3278</td>\n",
       "      <td>Following on directly from the last episode of...</td>\n",
       "      <td>positive</td>\n",
       "      <td>[{'label': 'PERSON', 'value': 'Hacker'}, {'lab...</td>\n",
       "      <td>{\"review\": \"Following on directly from the las...</td>\n",
       "      <td>3279</td>\n",
       "      <td>```json\\n{\\n  \"sentiment\": \"positive\",\\n  \"re...</td>\n",
       "    </tr>\n",
       "    <tr>\n",
       "      <th>2</th>\n",
       "      <td>967</td>\n",
       "      <td>But at least this movie got what it deserved -...</td>\n",
       "      <td>negative</td>\n",
       "      <td>[{'label': 'PERSON', 'value': 'Mike'}, {'label...</td>\n",
       "      <td>{\"review\": \"But at least this movie got what i...</td>\n",
       "      <td>968</td>\n",
       "      <td>```json\\n{\\n  \"sentiment\": \"NEGATIVE\",\\n  \"re...</td>\n",
       "    </tr>\n",
       "    <tr>\n",
       "      <th>3</th>\n",
       "      <td>1982</td>\n",
       "      <td>A few buddies and myself have the strange hobb...</td>\n",
       "      <td>negative</td>\n",
       "      <td>[{'label': 'PERSON', 'value': 'Larry Buchanan'...</td>\n",
       "      <td>{\"review\": \"A few buddies and myself have the ...</td>\n",
       "      <td>1983</td>\n",
       "      <td>Based on the review text provided, here is th...</td>\n",
       "    </tr>\n",
       "    <tr>\n",
       "      <th>4</th>\n",
       "      <td>2902</td>\n",
       "      <td>On a routine mission in Iraq a group of Delta ...</td>\n",
       "      <td>positive</td>\n",
       "      <td>[{'label': 'ORG', 'value': 'Delta'}, {'label':...</td>\n",
       "      <td>{\"review\": \"On a routine mission in Iraq a gro...</td>\n",
       "      <td>2903</td>\n",
       "      <td>```json\\n{\\n  \"sentiment\": \"positive\",\\n  \"re...</td>\n",
       "    </tr>\n",
       "  </tbody>\n",
       "</table>\n",
       "</div>"
      ]
     },
     "execution_count": 4,
     "metadata": {},
     "output_type": "execute_result"
    }
   ],
   "execution_count": 4
  },
  {
   "metadata": {
    "ExecuteTime": {
     "end_time": "2024-09-04T14:03:52.130183Z",
     "start_time": "2024-09-04T14:03:52.124112Z"
    }
   },
   "cell_type": "code",
   "source": "dataframe[dataframe.output == \"$$$\"]",
   "id": "c8f6b7b5c40a5738",
   "outputs": [
    {
     "data": {
      "text/plain": [
       "Empty DataFrame\n",
       "Columns: [Unnamed: 0, review, sentiment, entities, json, progressive_index, output]\n",
       "Index: []"
      ],
      "text/html": [
       "<div>\n",
       "<style scoped>\n",
       "    .dataframe tbody tr th:only-of-type {\n",
       "        vertical-align: middle;\n",
       "    }\n",
       "\n",
       "    .dataframe tbody tr th {\n",
       "        vertical-align: top;\n",
       "    }\n",
       "\n",
       "    .dataframe thead th {\n",
       "        text-align: right;\n",
       "    }\n",
       "</style>\n",
       "<table border=\"1\" class=\"dataframe\">\n",
       "  <thead>\n",
       "    <tr style=\"text-align: right;\">\n",
       "      <th></th>\n",
       "      <th>Unnamed: 0</th>\n",
       "      <th>review</th>\n",
       "      <th>sentiment</th>\n",
       "      <th>entities</th>\n",
       "      <th>json</th>\n",
       "      <th>progressive_index</th>\n",
       "      <th>output</th>\n",
       "    </tr>\n",
       "  </thead>\n",
       "  <tbody>\n",
       "  </tbody>\n",
       "</table>\n",
       "</div>"
      ]
     },
     "execution_count": 8,
     "metadata": {},
     "output_type": "execute_result"
    }
   ],
   "execution_count": 8
  },
  {
   "metadata": {
    "ExecuteTime": {
     "end_time": "2024-07-24T13:36:24.984950Z",
     "start_time": "2024-07-24T13:36:24.980344Z"
    }
   },
   "cell_type": "code",
   "source": [
    "cleaned: pd.DataFrame = dataframe.apply(lambda row: row[\"output\"] if row[\"output\"] and row[\"output\"].strip() != \"\" else \"$$$\", axis=1)\n",
    "cleaned.head()"
   ],
   "id": "8cf80beeef460205",
   "outputs": [
    {
     "data": {
      "text/plain": [
       "                                              review sentiment  \\\n",
       "0  With No Dead Heroes you get stupid lines like ...  negative   \n",
       "1  I thought maybe... maybe this could be good. A...  negative   \n",
       "2  An elite American military team which of cours...  negative   \n",
       "3  Ridiculous horror film about a wealthy man (Jo...  negative   \n",
       "4  Well, if you are one of those Katana's film-nu...  positive   \n",
       "\n",
       "                                            entities  \\\n",
       "0  [{'label': 'PERSON', 'value': 'William Sanders...   \n",
       "1  [{'label': 'PERSON', 'value': 'Jeffery Combs'}...   \n",
       "2  [{'label': 'ORG', 'value': 'Spetznaz'}, {'labe...   \n",
       "3  [{'label': 'PERSON', 'value': 'John Carradine'...   \n",
       "4  [{'label': 'PERSON', 'value': 'Katana'}, {'lab...   \n",
       "\n",
       "                                                json  progressive_index  \n",
       "0  {\"review\": \"With No Dead Heroes you get stupid...                  1  \n",
       "1  {\"review\": \"I thought maybe... maybe this coul...                  2  \n",
       "2  {\"review\": \"An elite American military team wh...                  3  \n",
       "3  {\"review\": \"Ridiculous horror film about a wea...                  4  \n",
       "4  {\"review\": \"Well, if you are one of those Kata...                  5  "
      ],
      "text/html": [
       "<div>\n",
       "<style scoped>\n",
       "    .dataframe tbody tr th:only-of-type {\n",
       "        vertical-align: middle;\n",
       "    }\n",
       "\n",
       "    .dataframe tbody tr th {\n",
       "        vertical-align: top;\n",
       "    }\n",
       "\n",
       "    .dataframe thead th {\n",
       "        text-align: right;\n",
       "    }\n",
       "</style>\n",
       "<table border=\"1\" class=\"dataframe\">\n",
       "  <thead>\n",
       "    <tr style=\"text-align: right;\">\n",
       "      <th></th>\n",
       "      <th>review</th>\n",
       "      <th>sentiment</th>\n",
       "      <th>entities</th>\n",
       "      <th>json</th>\n",
       "      <th>progressive_index</th>\n",
       "    </tr>\n",
       "  </thead>\n",
       "  <tbody>\n",
       "    <tr>\n",
       "      <th>0</th>\n",
       "      <td>With No Dead Heroes you get stupid lines like ...</td>\n",
       "      <td>negative</td>\n",
       "      <td>[{'label': 'PERSON', 'value': 'William Sanders...</td>\n",
       "      <td>{\"review\": \"With No Dead Heroes you get stupid...</td>\n",
       "      <td>1</td>\n",
       "    </tr>\n",
       "    <tr>\n",
       "      <th>1</th>\n",
       "      <td>I thought maybe... maybe this could be good. A...</td>\n",
       "      <td>negative</td>\n",
       "      <td>[{'label': 'PERSON', 'value': 'Jeffery Combs'}...</td>\n",
       "      <td>{\"review\": \"I thought maybe... maybe this coul...</td>\n",
       "      <td>2</td>\n",
       "    </tr>\n",
       "    <tr>\n",
       "      <th>2</th>\n",
       "      <td>An elite American military team which of cours...</td>\n",
       "      <td>negative</td>\n",
       "      <td>[{'label': 'ORG', 'value': 'Spetznaz'}, {'labe...</td>\n",
       "      <td>{\"review\": \"An elite American military team wh...</td>\n",
       "      <td>3</td>\n",
       "    </tr>\n",
       "    <tr>\n",
       "      <th>3</th>\n",
       "      <td>Ridiculous horror film about a wealthy man (Jo...</td>\n",
       "      <td>negative</td>\n",
       "      <td>[{'label': 'PERSON', 'value': 'John Carradine'...</td>\n",
       "      <td>{\"review\": \"Ridiculous horror film about a wea...</td>\n",
       "      <td>4</td>\n",
       "    </tr>\n",
       "    <tr>\n",
       "      <th>4</th>\n",
       "      <td>Well, if you are one of those Katana's film-nu...</td>\n",
       "      <td>positive</td>\n",
       "      <td>[{'label': 'PERSON', 'value': 'Katana'}, {'lab...</td>\n",
       "      <td>{\"review\": \"Well, if you are one of those Kata...</td>\n",
       "      <td>5</td>\n",
       "    </tr>\n",
       "  </tbody>\n",
       "</table>\n",
       "</div>"
      ]
     },
     "execution_count": 3,
     "metadata": {},
     "output_type": "execute_result"
    }
   ],
   "execution_count": 3
  },
  {
   "metadata": {
    "ExecuteTime": {
     "end_time": "2024-07-24T13:37:30.831871Z",
     "start_time": "2024-07-24T13:37:30.782359Z"
    }
   },
   "cell_type": "code",
   "source": [
    "cleaned = cleaned.sample(n=1000)\n",
    "cleaned.to_csv('../resources/IMDB Dataset Sampled.csv')"
   ],
   "id": "a2d26d0488ad036e",
   "outputs": [],
   "execution_count": 5
  },
  {
   "metadata": {
    "ExecuteTime": {
     "end_time": "2024-07-24T13:36:25.157600Z",
     "start_time": "2024-07-24T13:36:25.156336Z"
    }
   },
   "cell_type": "code",
   "source": "",
   "id": "a412b4a6598e3b3d",
   "outputs": [],
   "execution_count": 4
  }
 ],
 "metadata": {
  "kernelspec": {
   "display_name": "Python 3",
   "language": "python",
   "name": "python3"
  },
  "language_info": {
   "codemirror_mode": {
    "name": "ipython",
    "version": 2
   },
   "file_extension": ".py",
   "mimetype": "text/x-python",
   "name": "python",
   "nbconvert_exporter": "python",
   "pygments_lexer": "ipython2",
   "version": "2.7.6"
  }
 },
 "nbformat": 4,
 "nbformat_minor": 5
}
