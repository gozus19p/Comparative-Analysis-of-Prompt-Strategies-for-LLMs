{
 "cells": [
  {
   "cell_type": "code",
   "id": "83e3c69b-8ec6-4ad8-8e28-8ef97747ac71",
   "metadata": {
    "ExecuteTime": {
     "end_time": "2024-07-24T11:45:36.258855Z",
     "start_time": "2024-07-24T11:45:33.704455Z"
    }
   },
   "source": "!pip install langchain langchain-community pandas ollama tqdm",
   "outputs": [
    {
     "name": "stdout",
     "output_type": "stream",
     "text": [
      "Requirement already satisfied: langchain in /Users/manuel/PycharmProjects/benchmark/.venv/lib/python3.10/site-packages (0.1.16)\r\n",
      "Requirement already satisfied: langchain-community in /Users/manuel/PycharmProjects/benchmark/.venv/lib/python3.10/site-packages (0.0.38)\r\n",
      "Requirement already satisfied: pandas in /Users/manuel/PycharmProjects/benchmark/.venv/lib/python3.10/site-packages (2.2.2)\r\n",
      "Requirement already satisfied: ollama in /Users/manuel/PycharmProjects/benchmark/.venv/lib/python3.10/site-packages (0.3.0)\r\n",
      "Requirement already satisfied: tqdm in /Users/manuel/PycharmProjects/benchmark/.venv/lib/python3.10/site-packages (4.66.4)\r\n",
      "Requirement already satisfied: PyYAML>=5.3 in /Users/manuel/PycharmProjects/benchmark/.venv/lib/python3.10/site-packages (from langchain) (6.0.1)\r\n",
      "Requirement already satisfied: SQLAlchemy<3,>=1.4 in /Users/manuel/PycharmProjects/benchmark/.venv/lib/python3.10/site-packages (from langchain) (2.0.30)\r\n",
      "Requirement already satisfied: aiohttp<4.0.0,>=3.8.3 in /Users/manuel/PycharmProjects/benchmark/.venv/lib/python3.10/site-packages (from langchain) (3.9.5)\r\n",
      "Requirement already satisfied: async-timeout<5.0.0,>=4.0.0 in /Users/manuel/PycharmProjects/benchmark/.venv/lib/python3.10/site-packages (from langchain) (4.0.3)\r\n",
      "Requirement already satisfied: dataclasses-json<0.7,>=0.5.7 in /Users/manuel/PycharmProjects/benchmark/.venv/lib/python3.10/site-packages (from langchain) (0.6.6)\r\n",
      "Requirement already satisfied: jsonpatch<2.0,>=1.33 in /Users/manuel/PycharmProjects/benchmark/.venv/lib/python3.10/site-packages (from langchain) (1.33)\r\n",
      "Requirement already satisfied: langchain-core<0.2.0,>=0.1.42 in /Users/manuel/PycharmProjects/benchmark/.venv/lib/python3.10/site-packages (from langchain) (0.1.52)\r\n",
      "Requirement already satisfied: langchain-text-splitters<0.1,>=0.0.1 in /Users/manuel/PycharmProjects/benchmark/.venv/lib/python3.10/site-packages (from langchain) (0.0.2)\r\n",
      "Requirement already satisfied: langsmith<0.2.0,>=0.1.17 in /Users/manuel/PycharmProjects/benchmark/.venv/lib/python3.10/site-packages (from langchain) (0.1.75)\r\n",
      "Requirement already satisfied: numpy<2,>=1 in /Users/manuel/PycharmProjects/benchmark/.venv/lib/python3.10/site-packages (from langchain) (1.26.4)\r\n",
      "Requirement already satisfied: pydantic<3,>=1 in /Users/manuel/PycharmProjects/benchmark/.venv/lib/python3.10/site-packages (from langchain) (2.7.3)\r\n",
      "Requirement already satisfied: requests<3,>=2 in /Users/manuel/PycharmProjects/benchmark/.venv/lib/python3.10/site-packages (from langchain) (2.32.3)\r\n",
      "Requirement already satisfied: tenacity<9.0.0,>=8.1.0 in /Users/manuel/PycharmProjects/benchmark/.venv/lib/python3.10/site-packages (from langchain) (8.3.0)\r\n",
      "Requirement already satisfied: python-dateutil>=2.8.2 in /Users/manuel/PycharmProjects/benchmark/.venv/lib/python3.10/site-packages (from pandas) (2.9.0.post0)\r\n",
      "Requirement already satisfied: pytz>=2020.1 in /Users/manuel/PycharmProjects/benchmark/.venv/lib/python3.10/site-packages (from pandas) (2024.1)\r\n",
      "Requirement already satisfied: tzdata>=2022.7 in /Users/manuel/PycharmProjects/benchmark/.venv/lib/python3.10/site-packages (from pandas) (2024.1)\r\n",
      "Requirement already satisfied: httpx<0.28.0,>=0.27.0 in /Users/manuel/PycharmProjects/benchmark/.venv/lib/python3.10/site-packages (from ollama) (0.27.0)\r\n",
      "Requirement already satisfied: aiosignal>=1.1.2 in /Users/manuel/PycharmProjects/benchmark/.venv/lib/python3.10/site-packages (from aiohttp<4.0.0,>=3.8.3->langchain) (1.3.1)\r\n",
      "Requirement already satisfied: attrs>=17.3.0 in /Users/manuel/PycharmProjects/benchmark/.venv/lib/python3.10/site-packages (from aiohttp<4.0.0,>=3.8.3->langchain) (23.2.0)\r\n",
      "Requirement already satisfied: frozenlist>=1.1.1 in /Users/manuel/PycharmProjects/benchmark/.venv/lib/python3.10/site-packages (from aiohttp<4.0.0,>=3.8.3->langchain) (1.4.1)\r\n",
      "Requirement already satisfied: multidict<7.0,>=4.5 in /Users/manuel/PycharmProjects/benchmark/.venv/lib/python3.10/site-packages (from aiohttp<4.0.0,>=3.8.3->langchain) (6.0.5)\r\n",
      "Requirement already satisfied: yarl<2.0,>=1.0 in /Users/manuel/PycharmProjects/benchmark/.venv/lib/python3.10/site-packages (from aiohttp<4.0.0,>=3.8.3->langchain) (1.9.4)\r\n",
      "Requirement already satisfied: marshmallow<4.0.0,>=3.18.0 in /Users/manuel/PycharmProjects/benchmark/.venv/lib/python3.10/site-packages (from dataclasses-json<0.7,>=0.5.7->langchain) (3.21.3)\r\n",
      "Requirement already satisfied: typing-inspect<1,>=0.4.0 in /Users/manuel/PycharmProjects/benchmark/.venv/lib/python3.10/site-packages (from dataclasses-json<0.7,>=0.5.7->langchain) (0.9.0)\r\n",
      "Requirement already satisfied: anyio in /Users/manuel/PycharmProjects/benchmark/.venv/lib/python3.10/site-packages (from httpx<0.28.0,>=0.27.0->ollama) (4.4.0)\r\n",
      "Requirement already satisfied: certifi in /Users/manuel/PycharmProjects/benchmark/.venv/lib/python3.10/site-packages (from httpx<0.28.0,>=0.27.0->ollama) (2024.6.2)\r\n",
      "Requirement already satisfied: httpcore==1.* in /Users/manuel/PycharmProjects/benchmark/.venv/lib/python3.10/site-packages (from httpx<0.28.0,>=0.27.0->ollama) (1.0.5)\r\n",
      "Requirement already satisfied: idna in /Users/manuel/PycharmProjects/benchmark/.venv/lib/python3.10/site-packages (from httpx<0.28.0,>=0.27.0->ollama) (3.7)\r\n",
      "Requirement already satisfied: sniffio in /Users/manuel/PycharmProjects/benchmark/.venv/lib/python3.10/site-packages (from httpx<0.28.0,>=0.27.0->ollama) (1.3.1)\r\n",
      "Requirement already satisfied: h11<0.15,>=0.13 in /Users/manuel/PycharmProjects/benchmark/.venv/lib/python3.10/site-packages (from httpcore==1.*->httpx<0.28.0,>=0.27.0->ollama) (0.14.0)\r\n",
      "Requirement already satisfied: jsonpointer>=1.9 in /Users/manuel/PycharmProjects/benchmark/.venv/lib/python3.10/site-packages (from jsonpatch<2.0,>=1.33->langchain) (2.4)\r\n",
      "Requirement already satisfied: packaging<24.0,>=23.2 in /Users/manuel/PycharmProjects/benchmark/.venv/lib/python3.10/site-packages (from langchain-core<0.2.0,>=0.1.42->langchain) (23.2)\r\n",
      "Requirement already satisfied: orjson<4.0.0,>=3.9.14 in /Users/manuel/PycharmProjects/benchmark/.venv/lib/python3.10/site-packages (from langsmith<0.2.0,>=0.1.17->langchain) (3.9.15)\r\n",
      "Requirement already satisfied: annotated-types>=0.4.0 in /Users/manuel/PycharmProjects/benchmark/.venv/lib/python3.10/site-packages (from pydantic<3,>=1->langchain) (0.7.0)\r\n",
      "Requirement already satisfied: pydantic-core==2.18.4 in /Users/manuel/PycharmProjects/benchmark/.venv/lib/python3.10/site-packages (from pydantic<3,>=1->langchain) (2.18.4)\r\n",
      "Requirement already satisfied: typing-extensions>=4.6.1 in /Users/manuel/PycharmProjects/benchmark/.venv/lib/python3.10/site-packages (from pydantic<3,>=1->langchain) (4.12.1)\r\n",
      "Requirement already satisfied: six>=1.5 in /Users/manuel/PycharmProjects/benchmark/.venv/lib/python3.10/site-packages (from python-dateutil>=2.8.2->pandas) (1.16.0)\r\n",
      "Requirement already satisfied: charset-normalizer<4,>=2 in /Users/manuel/PycharmProjects/benchmark/.venv/lib/python3.10/site-packages (from requests<3,>=2->langchain) (3.3.2)\r\n",
      "Requirement already satisfied: urllib3<3,>=1.21.1 in /Users/manuel/PycharmProjects/benchmark/.venv/lib/python3.10/site-packages (from requests<3,>=2->langchain) (2.2.1)\r\n",
      "Requirement already satisfied: mypy-extensions>=0.3.0 in /Users/manuel/PycharmProjects/benchmark/.venv/lib/python3.10/site-packages (from typing-inspect<1,>=0.4.0->dataclasses-json<0.7,>=0.5.7->langchain) (1.0.0)\r\n",
      "Requirement already satisfied: exceptiongroup>=1.0.2 in /Users/manuel/PycharmProjects/benchmark/.venv/lib/python3.10/site-packages (from anyio->httpx<0.28.0,>=0.27.0->ollama) (1.2.1)\r\n",
      "\r\n",
      "\u001B[1m[\u001B[0m\u001B[34;49mnotice\u001B[0m\u001B[1;39;49m]\u001B[0m\u001B[39;49m A new release of pip is available: \u001B[0m\u001B[31;49m23.2.1\u001B[0m\u001B[39;49m -> \u001B[0m\u001B[32;49m24.1.2\u001B[0m\r\n",
      "\u001B[1m[\u001B[0m\u001B[34;49mnotice\u001B[0m\u001B[1;39;49m]\u001B[0m\u001B[39;49m To update, run: \u001B[0m\u001B[32;49mpip install --upgrade pip\u001B[0m\r\n"
     ]
    }
   ],
   "execution_count": 3
  },
  {
   "cell_type": "code",
   "id": "b7d7ddf1-da80-4bae-bcf0-53e120f0f55a",
   "metadata": {
    "ExecuteTime": {
     "end_time": "2024-07-24T11:45:37.868620Z",
     "start_time": "2024-07-24T11:45:36.260077Z"
    }
   },
   "source": [
    "from langchain_community.llms import Ollama\n",
    "from langchain_core.prompts import PromptTemplate\n",
    "from langchain_core.runnables import RunnableSequence\n",
    "\n",
    "import logging\n",
    "import time\n",
    "import pandas as pd\n",
    "import logging\n",
    "import time\n",
    "\n",
    "logging.basicConfig(level=logging.INFO, format='%(asctime)s - %(levelname)s - %(message)s')"
   ],
   "outputs": [],
   "execution_count": 4
  },
  {
   "metadata": {
    "ExecuteTime": {
     "end_time": "2024-07-24T11:45:37.872674Z",
     "start_time": "2024-07-24T11:45:37.869703Z"
    }
   },
   "cell_type": "code",
   "source": [
    "PROMPT_TEMPLATE = \"\"\"Instruction: Analyze the following review text and provide one distinct outputs formatted in JSON:\n",
    "\n",
    "1. **Sentiment Classification:** Indicate whether the sentiment of the review is Positive, Neutral, or Negative.\n",
    "2. **Named Entity Extraction:** List all named entities present in the text, categorizing them by type (e.g., people, locations, organizations, etc.).\n",
    "3. **Required JSON Format:** Ensure the response is formatted in JSON according to the following schema:\n",
    "\n",
    "{{\n",
    "  \"sentiment\": \"<sentiment>\",\n",
    "  \"entities\": {{\n",
    "    \"person\": [\"<person_name1>\", \"<person_name2>\", ...],\n",
    "    \"location\": [\"<location1>\", \"<location2>\", ...],\n",
    "    \"organization\": [\"<organization1>\", \"<organization2>\", ...],\n",
    "    \"product\": [\"<product1>\", \"<product2>\", ...]\n",
    "  }}\n",
    "}}\n",
    "\n",
    "example:\n",
    "\n",
    "\"I recently visited the restaurant 'La Dolce Vita' in Rome and was thrilled with the service and food. The waiter, Marco, was exceptionally friendly and the truffle risotto was simply divine. I can't wait to return and recommend this place to my friends.\"\n",
    "\n",
    "```json\n",
    "\n",
    "{{\n",
    "  \"sentiment\": \"Positive\",\n",
    "  \"entities\": {{\n",
    "    \"person\": [\"Marco\"],\n",
    "    \"location\": [\"Rome\"],\n",
    "    \"organization\": [\"La Dolce Vita\"],\n",
    "    \"product\": [\"truffle risotto\"]\n",
    "  }}\n",
    "}}\n",
    "\n",
    "```\n",
    "{content}\n",
    "\n",
    "\n",
    "\n",
    "\n",
    "\n",
    "\"\"\""
   ],
   "id": "570a6d8821b59b1",
   "outputs": [],
   "execution_count": 5
  },
  {
   "cell_type": "code",
   "id": "2fdf60a4-7e1b-4465-9ad1-076e637511d8",
   "metadata": {
    "ExecuteTime": {
     "end_time": "2024-07-24T11:45:37.876275Z",
     "start_time": "2024-07-24T11:45:37.874089Z"
    }
   },
   "source": [
    "def process_review(review: str, chain: RunnableSequence) -> str:\n",
    "    \"\"\"\n",
    "    It processes the review text and returns the LLM response as string.\n",
    "    \n",
    "    Arguments:\n",
    "        review (str): The review text.\n",
    "        chain (RunnableSequence): The LLM chain.\n",
    "        \n",
    "    Return:\n",
    "        The LLM response as string.\n",
    "    \"\"\"\n",
    "    try:\n",
    "        return chain.invoke({\"content\": review})\n",
    "    except Exception as e:\n",
    "        logging.error(f\"Error invoking the chain: {e}\")\n",
    "        return None"
   ],
   "outputs": [],
   "execution_count": 6
  },
  {
   "cell_type": "code",
   "id": "1ff50f58-66af-40df-b0e4-893dc77f8c66",
   "metadata": {
    "ExecuteTime": {
     "end_time": "2024-07-24T11:47:53.182656Z",
     "start_time": "2024-07-24T11:47:53.177567Z"
    }
   },
   "source": [
    "from tqdm import tqdm\n",
    "\n",
    "def call_model_llm(model_name: str, output_file_path: str) -> pd.DataFrame:\n",
    "    \"\"\"\n",
    "    It calls the LLM model using Ollama. It returns the sampled dataframe enriched with relevant columns.\n",
    "    \n",
    "    Arguments:\n",
    "        model_name: The name of the model to invoke via Ollama.\n",
    "    \n",
    "    Return:\n",
    "        The enriched dataframe.\n",
    "    \"\"\"\n",
    "    dataframe: pd.DataFrame = pd.read_csv(output_file_path)\n",
    "    chain: RunnableSequence = RunnableSequence(\n",
    "        PromptTemplate.from_template(PROMPT_TEMPLATE) | Ollama(model=model_name)\n",
    "    )\n",
    "    dataframe: pd.DataFrame = dataframe[dataframe.output == \"$$$\"]\n",
    "    total_rows: int = len(dataframe.index)\n",
    "    for i in tqdm(range(total_rows), total=total_rows):\n",
    "        row = dataframe.iloc[i]\n",
    "        # logging.info(f\"Processing row {i + 1} out of {total_rows}\")\n",
    "        dataframe.loc[i, \"output\"] = process_review(row[\"review\"], chain)\n",
    "        dataframe.to_csv(output_file_path)\n",
    "    return dataframe"
   ],
   "outputs": [],
   "execution_count": 11
  },
  {
   "cell_type": "code",
   "id": "6a8575fd-1ee7-44e8-986a-af684a6da0b6",
   "metadata": {
    "jupyter": {
     "is_executing": true
    },
    "ExecuteTime": {
     "start_time": "2024-07-24T11:47:53.486811Z"
    }
   },
   "source": [
    "import os\n",
    "\n",
    "# Define the model name to use\n",
    "MODEL_NAME: str = \"phi3:medium\"\n",
    "\n",
    "# Define the output path and get the result as csv\n",
    "output_file_path: str = f\"../resources/sampled_reviews_with_output_{MODEL_NAME}.csv\"\n",
    "\n",
    "exists: bool = os.path.exists(output_file_path)\n",
    "if not exists:\n",
    "    sampled: pd.DataFrame = pd.read_csv(\"../resources/IMDB Dataset Sampled.csv\")\n",
    "    sampled[\"output\"] = sampled.apply(lambda row: \"$$$\", axis=1)\n",
    "    sampled.to_csv(output_file_path, index=False)\n",
    "\n",
    "# Produce a dataframe by invoking the chain\n",
    "output: pd.DataFrame = call_model_llm(model_name=MODEL_NAME, output_file_path=output_file_path)\n",
    "\n",
    "output.to_csv(output_file_path, index=False)\n",
    "\n",
    "logging.info(\"Completed processing.\")"
   ],
   "outputs": [
    {
     "name": "stderr",
     "output_type": "stream",
     "text": [
      "  0%|          | 4/1056 [00:14<1:03:19,  3.61s/it]"
     ]
    }
   ],
   "execution_count": null
  },
  {
   "metadata": {},
   "cell_type": "code",
   "outputs": [],
   "execution_count": null,
   "source": "",
   "id": "d656422325ab1366"
  }
 ],
 "metadata": {
  "kernelspec": {
   "display_name": "Python 3 (ipykernel)",
   "language": "python",
   "name": "python3"
  },
  "language_info": {
   "codemirror_mode": {
    "name": "ipython",
    "version": 3
   },
   "file_extension": ".py",
   "mimetype": "text/x-python",
   "name": "python",
   "nbconvert_exporter": "python",
   "pygments_lexer": "ipython3",
   "version": "3.10.11"
  }
 },
 "nbformat": 4,
 "nbformat_minor": 5
}
