{
 "cells": [
  {
   "cell_type": "code",
   "execution_count": 1,
   "id": "83e3c69b-8ec6-4ad8-8e28-8ef97747ac71",
   "metadata": {},
   "outputs": [
    {
     "name": "stdout",
     "output_type": "stream",
     "text": [
      "Defaulting to user installation because normal site-packages is not writeable\n",
      "Requirement already satisfied: langchain in c:\\users\\f.dimaio\\appdata\\roaming\\python\\python310\\site-packages (0.1.20)\n",
      "Requirement already satisfied: PyYAML>=5.3 in c:\\users\\f.dimaio\\appdata\\roaming\\python\\python310\\site-packages (from langchain) (6.0)\n",
      "Requirement already satisfied: SQLAlchemy<3,>=1.4 in c:\\users\\f.dimaio\\appdata\\roaming\\python\\python310\\site-packages (from langchain) (2.0.19)\n",
      "Requirement already satisfied: aiohttp<4.0.0,>=3.8.3 in c:\\users\\f.dimaio\\appdata\\roaming\\python\\python310\\site-packages (from langchain) (3.9.1)\n",
      "Requirement already satisfied: async-timeout<5.0.0,>=4.0.0 in c:\\users\\f.dimaio\\appdata\\roaming\\python\\python310\\site-packages (from langchain) (4.0.2)\n",
      "Requirement already satisfied: dataclasses-json<0.7,>=0.5.7 in c:\\users\\f.dimaio\\appdata\\roaming\\python\\python310\\site-packages (from langchain) (0.5.14)\n",
      "Requirement already satisfied: langchain-community<0.1,>=0.0.38 in c:\\users\\f.dimaio\\appdata\\roaming\\python\\python310\\site-packages (from langchain) (0.0.38)\n",
      "Requirement already satisfied: langchain-core<0.2.0,>=0.1.52 in c:\\users\\f.dimaio\\appdata\\roaming\\python\\python310\\site-packages (from langchain) (0.1.52)\n",
      "Requirement already satisfied: langchain-text-splitters<0.1,>=0.0.1 in c:\\users\\f.dimaio\\appdata\\roaming\\python\\python310\\site-packages (from langchain) (0.0.1)\n",
      "Requirement already satisfied: langsmith<0.2.0,>=0.1.17 in c:\\users\\f.dimaio\\appdata\\roaming\\python\\python310\\site-packages (from langchain) (0.1.57)\n",
      "Requirement already satisfied: numpy<2,>=1 in c:\\users\\f.dimaio\\appdata\\roaming\\python\\python310\\site-packages (from langchain) (1.23.5)\n",
      "Requirement already satisfied: pydantic<3,>=1 in c:\\users\\f.dimaio\\appdata\\roaming\\python\\python310\\site-packages (from langchain) (1.10.17)\n",
      "Requirement already satisfied: requests<3,>=2 in c:\\users\\f.dimaio\\appdata\\roaming\\python\\python310\\site-packages (from langchain) (2.31.0)\n",
      "Requirement already satisfied: tenacity<9.0.0,>=8.1.0 in c:\\users\\f.dimaio\\appdata\\roaming\\python\\python310\\site-packages (from langchain) (8.2.2)\n",
      "Requirement already satisfied: attrs>=17.3.0 in c:\\users\\f.dimaio\\appdata\\roaming\\python\\python310\\site-packages (from aiohttp<4.0.0,>=3.8.3->langchain) (23.1.0)\n",
      "Requirement already satisfied: multidict<7.0,>=4.5 in c:\\users\\f.dimaio\\appdata\\roaming\\python\\python310\\site-packages (from aiohttp<4.0.0,>=3.8.3->langchain) (6.0.4)\n",
      "Requirement already satisfied: yarl<2.0,>=1.0 in c:\\users\\f.dimaio\\appdata\\roaming\\python\\python310\\site-packages (from aiohttp<4.0.0,>=3.8.3->langchain) (1.9.2)\n",
      "Requirement already satisfied: frozenlist>=1.1.1 in c:\\users\\f.dimaio\\appdata\\roaming\\python\\python310\\site-packages (from aiohttp<4.0.0,>=3.8.3->langchain) (1.4.0)\n",
      "Requirement already satisfied: aiosignal>=1.1.2 in c:\\users\\f.dimaio\\appdata\\roaming\\python\\python310\\site-packages (from aiohttp<4.0.0,>=3.8.3->langchain) (1.3.1)\n",
      "Requirement already satisfied: marshmallow<4.0.0,>=3.18.0 in c:\\users\\f.dimaio\\appdata\\roaming\\python\\python310\\site-packages (from dataclasses-json<0.7,>=0.5.7->langchain) (3.20.1)\n",
      "Requirement already satisfied: typing-inspect<1,>=0.4.0 in c:\\users\\f.dimaio\\appdata\\roaming\\python\\python310\\site-packages (from dataclasses-json<0.7,>=0.5.7->langchain) (0.9.0)\n",
      "Requirement already satisfied: jsonpatch<2.0,>=1.33 in c:\\program files\\python310\\lib\\site-packages (from langchain-core<0.2.0,>=0.1.52->langchain) (1.33)\n",
      "Requirement already satisfied: packaging<24.0,>=23.2 in c:\\users\\f.dimaio\\appdata\\roaming\\python\\python310\\site-packages (from langchain-core<0.2.0,>=0.1.52->langchain) (23.2)\n",
      "Requirement already satisfied: orjson<4.0.0,>=3.9.14 in c:\\users\\f.dimaio\\appdata\\roaming\\python\\python310\\site-packages (from langsmith<0.2.0,>=0.1.17->langchain) (3.10.1)\n",
      "Requirement already satisfied: typing-extensions>=4.2.0 in c:\\users\\f.dimaio\\appdata\\roaming\\python\\python310\\site-packages (from pydantic<3,>=1->langchain) (4.11.0)\n",
      "Requirement already satisfied: charset-normalizer<4,>=2 in c:\\users\\f.dimaio\\appdata\\roaming\\python\\python310\\site-packages (from requests<3,>=2->langchain) (3.1.0)\n",
      "Requirement already satisfied: idna<4,>=2.5 in c:\\users\\f.dimaio\\appdata\\roaming\\python\\python310\\site-packages (from requests<3,>=2->langchain) (2.10)\n",
      "Requirement already satisfied: urllib3<3,>=1.21.1 in c:\\users\\f.dimaio\\appdata\\roaming\\python\\python310\\site-packages (from requests<3,>=2->langchain) (1.26.16)\n",
      "Requirement already satisfied: certifi>=2017.4.17 in c:\\users\\f.dimaio\\appdata\\roaming\\python\\python310\\site-packages (from requests<3,>=2->langchain) (2023.5.7)\n",
      "Requirement already satisfied: greenlet!=0.4.17 in c:\\users\\f.dimaio\\appdata\\roaming\\python\\python310\\site-packages (from SQLAlchemy<3,>=1.4->langchain) (2.0.2)\n",
      "Requirement already satisfied: jsonpointer>=1.9 in c:\\program files\\python310\\lib\\site-packages (from jsonpatch<2.0,>=1.33->langchain-core<0.2.0,>=0.1.52->langchain) (2.4)\n",
      "Requirement already satisfied: mypy-extensions>=0.3.0 in c:\\users\\f.dimaio\\appdata\\roaming\\python\\python310\\site-packages (from typing-inspect<1,>=0.4.0->dataclasses-json<0.7,>=0.5.7->langchain) (1.0.0)\n"
     ]
    },
    {
     "name": "stderr",
     "output_type": "stream",
     "text": [
      "WARNING: Ignoring invalid distribution -rotobuf (c:\\users\\f.dimaio\\appdata\\roaming\\python\\python310\\site-packages)\n",
      "WARNING: Ignoring invalid distribution -rotobuf (c:\\users\\f.dimaio\\appdata\\roaming\\python\\python310\\site-packages)\n",
      "\n",
      "[notice] A new release of pip is available: 24.0 -> 24.1.2\n",
      "[notice] To update, run: python.exe -m pip install --upgrade pip\n"
     ]
    }
   ],
   "source": "!pip install langchain langchain-community pandas"
  },
  {
   "cell_type": "code",
   "execution_count": 4,
   "id": "b7d7ddf1-da80-4bae-bcf0-53e120f0f55a",
   "metadata": {},
   "outputs": [],
   "source": [
    "from langchain_community.llms import Ollama\n",
    "from langchain_core.prompts import PromptTemplate\n",
    "from langchain_core.runnables import RunnableSequence\n",
    "\n",
    "import logging\n",
    "import time\n",
    "import pandas as pd\n",
    "import logging\n",
    "import time\n",
    "\n",
    "logging.basicConfig(level=logging.INFO, format='%(asctime)s - %(levelname)s - %(message)s')"
   ]
  },
  {
   "metadata": {},
   "cell_type": "code",
   "outputs": [],
   "execution_count": null,
   "source": [
    "PROMPT_TEMPLATE = \"\"\"Instruction: Analyze the following review text and provide one distinct outputs formatted in JSON:\n",
    "\n",
    "1. **Sentiment Classification:** Indicate whether the sentiment of the review is Positive, Neutral, or Negative.\n",
    "2. **Named Entity Extraction:** List all named entities present in the text, categorizing them by type (e.g., people, locations, organizations, etc.).\n",
    "3. **Required JSON Format:** Ensure the response is formatted in JSON according to the following schema:\n",
    "\n",
    "{{\n",
    "  \"sentiment\": \"<sentiment>\",\n",
    "  \"entities\": {{\n",
    "    \"person\": [\"<person_name1>\", \"<person_name2>\", ...],\n",
    "    \"location\": [\"<location1>\", \"<location2>\", ...],\n",
    "    \"organization\": [\"<organization1>\", \"<organization2>\", ...],\n",
    "    \"product\": [\"<product1>\", \"<product2>\", ...]\n",
    "  }}\n",
    "}}\n",
    "\n",
    "example:\n",
    "\n",
    "\"I recently visited the restaurant 'La Dolce Vita' in Rome and was thrilled with the service and food. The waiter, Marco, was exceptionally friendly and the truffle risotto was simply divine. I can't wait to return and recommend this place to my friends.\"\n",
    "\n",
    "```json\n",
    "\n",
    "{{\n",
    "  \"sentiment\": \"Positive\",\n",
    "  \"entities\": {{\n",
    "    \"person\": [\"Marco\"],\n",
    "    \"location\": [\"Rome\"],\n",
    "    \"organization\": [\"La Dolce Vita\"],\n",
    "    \"product\": [\"truffle risotto\"]\n",
    "  }}\n",
    "}}\n",
    "\n",
    "```\n",
    "{content}\n",
    "\n",
    "\n",
    "\n",
    "\n",
    "\n",
    "\"\"\""
   ],
   "id": "570a6d8821b59b1"
  },
  {
   "cell_type": "code",
   "execution_count": 9,
   "id": "2fdf60a4-7e1b-4465-9ad1-076e637511d8",
   "metadata": {},
   "outputs": [],
   "source": [
    "def process_review(review: str, chain: RunnableSequence, progressive_index: int) -> str:\n",
    "    \"\"\"\n",
    "    It processes the review text and returns the LLM response as string.\n",
    "    \n",
    "    Arguments:\n",
    "        review (str): The review text.\n",
    "        chain (RunnableSequence): The LLM chain.\n",
    "        \n",
    "    Return:\n",
    "        The LLM response as string.\n",
    "    \"\"\"\n",
    "    try:\n",
    "        start_time: float = time.time()\n",
    "        langchain_output: str = chain.invoke({\"content\": review})\n",
    "        end_time: float = time.time()\n",
    "        processing_time: float = end_time - start_time\n",
    "        logging.info(f'Processing {progressive_index}/5000 ({(progressive_index / 5000):.2f}%) in {processing_time} seconds')\n",
    "        return langchain_output\n",
    "    except Exception as e:\n",
    "        logging.error(f\"Error invoking the chain: {e}\")\n",
    "        return None"
   ]
  },
  {
   "cell_type": "code",
   "execution_count": 11,
   "id": "1ff50f58-66af-40df-b0e4-893dc77f8c66",
   "metadata": {},
   "outputs": [
    {
     "name": "stderr",
     "output_type": "stream",
     "text": [
      "Processing Reviews: 100%|███████████████████████████████████████████████████████████████████████████████████████████████████████████████████████████████████████████████████████████████████████████████████████| 5000/5000 [14:31:23<00:00, 10.46s/it]\n",
      "2024-07-23 02:49:12,157 - INFO - Results saved to sampled_reviews_with_output.csv\n",
      "2024-07-23 02:49:12,157 - INFO - Completed processing.\n"
     ]
    }
   ],
   "source": [
    "def call_model_llm(model_name: str) -> pd.DataFrame:\n",
    "    \"\"\"\n",
    "    It calls the LLM model using Ollama. It returns the sampled dataframe enriched with relevant columns.\n",
    "    \n",
    "    Arguments:\n",
    "        model_name: The name of the model to invoke via Ollama.\n",
    "    \n",
    "    Return:\n",
    "        The enriched dataframe.\n",
    "    \"\"\"\n",
    "    dataframe: pd.DataFrame = pd.read_csv(\"../resources/IMDB Dataset Sampled.csv\")\n",
    "    chain: RunnableSequence = RunnableSequence(\n",
    "        PromptTemplate.from_template(PROMPT_TEMPLATE) | Ollama(model=model_name)\n",
    "    )\n",
    "    dataframe[f\"output\"]: pd.Series = dataframe.apply(lambda row: process_review(row[\"review\"], chain, row[\"progressive_index\"]), axis=1)\n",
    "    return dataframe\n"
   ]
  },
  {
   "cell_type": "code",
   "id": "6a8575fd-1ee7-44e8-986a-af684a6da0b6",
   "metadata": {
    "ExecuteTime": {
     "end_time": "2024-07-23T07:21:53.899192Z",
     "start_time": "2024-07-23T07:21:53.790124Z"
    }
   },
   "source": [
    "# Define the model name to use\n",
    "MODEL_NAME: str = \"llama_3\"\n",
    "\n",
    "# Produce a dataframe by invoking the chain\n",
    "output: pd.DataFrame = call_model_llm(model_name=MODEL_NAME)\n",
    "\n",
    "# Define the output path and get the result as csv\n",
    "output_file_path: str = f\"sampled_reviews_with_output_{MODEL_NAME}.csv\"\n",
    "output.to_csv(output_file_path, index=False)\n",
    "\n",
    "logging.info(\"Completed processing.\")"
   ],
   "outputs": [
    {
     "ename": "NameError",
     "evalue": "name 'call_model_llm' is not defined",
     "output_type": "error",
     "traceback": [
      "\u001B[0;31m---------------------------------------------------------------------------\u001B[0m",
      "\u001B[0;31mNameError\u001B[0m                                 Traceback (most recent call last)",
      "Cell \u001B[0;32mIn[1], line 1\u001B[0m\n\u001B[0;32m----> 1\u001B[0m output: pd\u001B[38;5;241m.\u001B[39mDataFrame \u001B[38;5;241m=\u001B[39m \u001B[43mcall_model_llm\u001B[49m(model_name\u001B[38;5;241m=\u001B[39mMODEL_NAME)\n\u001B[1;32m      3\u001B[0m output_file_path \u001B[38;5;241m=\u001B[39m \u001B[38;5;124mf\u001B[39m\u001B[38;5;124m\"\u001B[39m\u001B[38;5;124msampled_reviews_with_output-\u001B[39m\u001B[38;5;132;01m{\u001B[39;00mmodel_name\u001B[38;5;132;01m}\u001B[39;00m\u001B[38;5;124m.csv\u001B[39m\u001B[38;5;124m\"\u001B[39m\n\u001B[1;32m      4\u001B[0m output_dataframe\u001B[38;5;241m.\u001B[39mto_csv(output_file_path, index\u001B[38;5;241m=\u001B[39m\u001B[38;5;28;01mFalse\u001B[39;00m)\n",
      "\u001B[0;31mNameError\u001B[0m: name 'call_model_llm' is not defined"
     ]
    }
   ],
   "execution_count": 1
  }
 ],
 "metadata": {
  "kernelspec": {
   "display_name": "Python 3 (ipykernel)",
   "language": "python",
   "name": "python3"
  },
  "language_info": {
   "codemirror_mode": {
    "name": "ipython",
    "version": 3
   },
   "file_extension": ".py",
   "mimetype": "text/x-python",
   "name": "python",
   "nbconvert_exporter": "python",
   "pygments_lexer": "ipython3",
   "version": "3.10.11"
  }
 },
 "nbformat": 4,
 "nbformat_minor": 5
}
