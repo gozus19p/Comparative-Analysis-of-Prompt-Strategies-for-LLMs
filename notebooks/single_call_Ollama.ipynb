{
 "cells": [
  {
   "cell_type": "code",
   "execution_count": 1,
   "id": "83e3c69b-8ec6-4ad8-8e28-8ef97747ac71",
   "metadata": {},
   "outputs": [
    {
     "name": "stdout",
     "output_type": "stream",
     "text": [
      "Defaulting to user installation because normal site-packages is not writeable\n",
      "Requirement already satisfied: langchain in c:\\users\\f.dimaio\\appdata\\roaming\\python\\python310\\site-packages (0.1.20)\n",
      "Requirement already satisfied: PyYAML>=5.3 in c:\\users\\f.dimaio\\appdata\\roaming\\python\\python310\\site-packages (from langchain) (6.0)\n",
      "Requirement already satisfied: SQLAlchemy<3,>=1.4 in c:\\users\\f.dimaio\\appdata\\roaming\\python\\python310\\site-packages (from langchain) (2.0.19)\n",
      "Requirement already satisfied: aiohttp<4.0.0,>=3.8.3 in c:\\users\\f.dimaio\\appdata\\roaming\\python\\python310\\site-packages (from langchain) (3.9.1)\n",
      "Requirement already satisfied: async-timeout<5.0.0,>=4.0.0 in c:\\users\\f.dimaio\\appdata\\roaming\\python\\python310\\site-packages (from langchain) (4.0.2)\n",
      "Requirement already satisfied: dataclasses-json<0.7,>=0.5.7 in c:\\users\\f.dimaio\\appdata\\roaming\\python\\python310\\site-packages (from langchain) (0.5.14)\n",
      "Requirement already satisfied: langchain-community<0.1,>=0.0.38 in c:\\users\\f.dimaio\\appdata\\roaming\\python\\python310\\site-packages (from langchain) (0.0.38)\n",
      "Requirement already satisfied: langchain-core<0.2.0,>=0.1.52 in c:\\users\\f.dimaio\\appdata\\roaming\\python\\python310\\site-packages (from langchain) (0.1.52)\n",
      "Requirement already satisfied: langchain-text-splitters<0.1,>=0.0.1 in c:\\users\\f.dimaio\\appdata\\roaming\\python\\python310\\site-packages (from langchain) (0.0.1)\n",
      "Requirement already satisfied: langsmith<0.2.0,>=0.1.17 in c:\\users\\f.dimaio\\appdata\\roaming\\python\\python310\\site-packages (from langchain) (0.1.57)\n",
      "Requirement already satisfied: numpy<2,>=1 in c:\\users\\f.dimaio\\appdata\\roaming\\python\\python310\\site-packages (from langchain) (1.23.5)\n",
      "Requirement already satisfied: pydantic<3,>=1 in c:\\users\\f.dimaio\\appdata\\roaming\\python\\python310\\site-packages (from langchain) (1.10.17)\n",
      "Requirement already satisfied: requests<3,>=2 in c:\\users\\f.dimaio\\appdata\\roaming\\python\\python310\\site-packages (from langchain) (2.31.0)\n",
      "Requirement already satisfied: tenacity<9.0.0,>=8.1.0 in c:\\users\\f.dimaio\\appdata\\roaming\\python\\python310\\site-packages (from langchain) (8.2.2)\n",
      "Requirement already satisfied: attrs>=17.3.0 in c:\\users\\f.dimaio\\appdata\\roaming\\python\\python310\\site-packages (from aiohttp<4.0.0,>=3.8.3->langchain) (23.1.0)\n",
      "Requirement already satisfied: multidict<7.0,>=4.5 in c:\\users\\f.dimaio\\appdata\\roaming\\python\\python310\\site-packages (from aiohttp<4.0.0,>=3.8.3->langchain) (6.0.4)\n",
      "Requirement already satisfied: yarl<2.0,>=1.0 in c:\\users\\f.dimaio\\appdata\\roaming\\python\\python310\\site-packages (from aiohttp<4.0.0,>=3.8.3->langchain) (1.9.2)\n",
      "Requirement already satisfied: frozenlist>=1.1.1 in c:\\users\\f.dimaio\\appdata\\roaming\\python\\python310\\site-packages (from aiohttp<4.0.0,>=3.8.3->langchain) (1.4.0)\n",
      "Requirement already satisfied: aiosignal>=1.1.2 in c:\\users\\f.dimaio\\appdata\\roaming\\python\\python310\\site-packages (from aiohttp<4.0.0,>=3.8.3->langchain) (1.3.1)\n",
      "Requirement already satisfied: marshmallow<4.0.0,>=3.18.0 in c:\\users\\f.dimaio\\appdata\\roaming\\python\\python310\\site-packages (from dataclasses-json<0.7,>=0.5.7->langchain) (3.20.1)\n",
      "Requirement already satisfied: typing-inspect<1,>=0.4.0 in c:\\users\\f.dimaio\\appdata\\roaming\\python\\python310\\site-packages (from dataclasses-json<0.7,>=0.5.7->langchain) (0.9.0)\n",
      "Requirement already satisfied: jsonpatch<2.0,>=1.33 in c:\\program files\\python310\\lib\\site-packages (from langchain-core<0.2.0,>=0.1.52->langchain) (1.33)\n",
      "Requirement already satisfied: packaging<24.0,>=23.2 in c:\\users\\f.dimaio\\appdata\\roaming\\python\\python310\\site-packages (from langchain-core<0.2.0,>=0.1.52->langchain) (23.2)\n",
      "Requirement already satisfied: orjson<4.0.0,>=3.9.14 in c:\\users\\f.dimaio\\appdata\\roaming\\python\\python310\\site-packages (from langsmith<0.2.0,>=0.1.17->langchain) (3.10.1)\n",
      "Requirement already satisfied: typing-extensions>=4.2.0 in c:\\users\\f.dimaio\\appdata\\roaming\\python\\python310\\site-packages (from pydantic<3,>=1->langchain) (4.11.0)\n",
      "Requirement already satisfied: charset-normalizer<4,>=2 in c:\\users\\f.dimaio\\appdata\\roaming\\python\\python310\\site-packages (from requests<3,>=2->langchain) (3.1.0)\n",
      "Requirement already satisfied: idna<4,>=2.5 in c:\\users\\f.dimaio\\appdata\\roaming\\python\\python310\\site-packages (from requests<3,>=2->langchain) (2.10)\n",
      "Requirement already satisfied: urllib3<3,>=1.21.1 in c:\\users\\f.dimaio\\appdata\\roaming\\python\\python310\\site-packages (from requests<3,>=2->langchain) (1.26.16)\n",
      "Requirement already satisfied: certifi>=2017.4.17 in c:\\users\\f.dimaio\\appdata\\roaming\\python\\python310\\site-packages (from requests<3,>=2->langchain) (2023.5.7)\n",
      "Requirement already satisfied: greenlet!=0.4.17 in c:\\users\\f.dimaio\\appdata\\roaming\\python\\python310\\site-packages (from SQLAlchemy<3,>=1.4->langchain) (2.0.2)\n",
      "Requirement already satisfied: jsonpointer>=1.9 in c:\\program files\\python310\\lib\\site-packages (from jsonpatch<2.0,>=1.33->langchain-core<0.2.0,>=0.1.52->langchain) (2.4)\n",
      "Requirement already satisfied: mypy-extensions>=0.3.0 in c:\\users\\f.dimaio\\appdata\\roaming\\python\\python310\\site-packages (from typing-inspect<1,>=0.4.0->dataclasses-json<0.7,>=0.5.7->langchain) (1.0.0)\n"
     ]
    },
    {
     "name": "stderr",
     "output_type": "stream",
     "text": [
      "WARNING: Ignoring invalid distribution -rotobuf (c:\\users\\f.dimaio\\appdata\\roaming\\python\\python310\\site-packages)\n",
      "WARNING: Ignoring invalid distribution -rotobuf (c:\\users\\f.dimaio\\appdata\\roaming\\python\\python310\\site-packages)\n",
      "\n",
      "[notice] A new release of pip is available: 24.0 -> 24.1.2\n",
      "[notice] To update, run: python.exe -m pip install --upgrade pip\n"
     ]
    }
   ],
   "source": [
    "!pip install langchain"
   ]
  },
  {
   "cell_type": "code",
   "execution_count": 2,
   "id": "cd1ac1a5-d7f7-45cd-9e46-d483208fe8c0",
   "metadata": {},
   "outputs": [
    {
     "name": "stdout",
     "output_type": "stream",
     "text": [
      "Defaulting to user installation because normal site-packages is not writeable\n",
      "Requirement already satisfied: langchain-community in c:\\users\\f.dimaio\\appdata\\roaming\\python\\python310\\site-packages (0.0.38)\n",
      "Requirement already satisfied: PyYAML>=5.3 in c:\\users\\f.dimaio\\appdata\\roaming\\python\\python310\\site-packages (from langchain-community) (6.0)\n",
      "Requirement already satisfied: SQLAlchemy<3,>=1.4 in c:\\users\\f.dimaio\\appdata\\roaming\\python\\python310\\site-packages (from langchain-community) (2.0.19)\n",
      "Requirement already satisfied: aiohttp<4.0.0,>=3.8.3 in c:\\users\\f.dimaio\\appdata\\roaming\\python\\python310\\site-packages (from langchain-community) (3.9.1)\n",
      "Requirement already satisfied: dataclasses-json<0.7,>=0.5.7 in c:\\users\\f.dimaio\\appdata\\roaming\\python\\python310\\site-packages (from langchain-community) (0.5.14)\n",
      "Requirement already satisfied: langchain-core<0.2.0,>=0.1.52 in c:\\users\\f.dimaio\\appdata\\roaming\\python\\python310\\site-packages (from langchain-community) (0.1.52)\n",
      "Requirement already satisfied: langsmith<0.2.0,>=0.1.0 in c:\\users\\f.dimaio\\appdata\\roaming\\python\\python310\\site-packages (from langchain-community) (0.1.57)\n",
      "Requirement already satisfied: numpy<2,>=1 in c:\\users\\f.dimaio\\appdata\\roaming\\python\\python310\\site-packages (from langchain-community) (1.23.5)\n",
      "Requirement already satisfied: requests<3,>=2 in c:\\users\\f.dimaio\\appdata\\roaming\\python\\python310\\site-packages (from langchain-community) (2.31.0)\n",
      "Requirement already satisfied: tenacity<9.0.0,>=8.1.0 in c:\\users\\f.dimaio\\appdata\\roaming\\python\\python310\\site-packages (from langchain-community) (8.2.2)\n",
      "Requirement already satisfied: attrs>=17.3.0 in c:\\users\\f.dimaio\\appdata\\roaming\\python\\python310\\site-packages (from aiohttp<4.0.0,>=3.8.3->langchain-community) (23.1.0)\n",
      "Requirement already satisfied: multidict<7.0,>=4.5 in c:\\users\\f.dimaio\\appdata\\roaming\\python\\python310\\site-packages (from aiohttp<4.0.0,>=3.8.3->langchain-community) (6.0.4)\n",
      "Requirement already satisfied: yarl<2.0,>=1.0 in c:\\users\\f.dimaio\\appdata\\roaming\\python\\python310\\site-packages (from aiohttp<4.0.0,>=3.8.3->langchain-community) (1.9.2)\n",
      "Requirement already satisfied: frozenlist>=1.1.1 in c:\\users\\f.dimaio\\appdata\\roaming\\python\\python310\\site-packages (from aiohttp<4.0.0,>=3.8.3->langchain-community) (1.4.0)\n",
      "Requirement already satisfied: aiosignal>=1.1.2 in c:\\users\\f.dimaio\\appdata\\roaming\\python\\python310\\site-packages (from aiohttp<4.0.0,>=3.8.3->langchain-community) (1.3.1)\n",
      "Requirement already satisfied: async-timeout<5.0,>=4.0 in c:\\users\\f.dimaio\\appdata\\roaming\\python\\python310\\site-packages (from aiohttp<4.0.0,>=3.8.3->langchain-community) (4.0.2)\n",
      "Requirement already satisfied: marshmallow<4.0.0,>=3.18.0 in c:\\users\\f.dimaio\\appdata\\roaming\\python\\python310\\site-packages (from dataclasses-json<0.7,>=0.5.7->langchain-community) (3.20.1)\n",
      "Requirement already satisfied: typing-inspect<1,>=0.4.0 in c:\\users\\f.dimaio\\appdata\\roaming\\python\\python310\\site-packages (from dataclasses-json<0.7,>=0.5.7->langchain-community) (0.9.0)\n",
      "Requirement already satisfied: jsonpatch<2.0,>=1.33 in c:\\program files\\python310\\lib\\site-packages (from langchain-core<0.2.0,>=0.1.52->langchain-community) (1.33)\n",
      "Requirement already satisfied: packaging<24.0,>=23.2 in c:\\users\\f.dimaio\\appdata\\roaming\\python\\python310\\site-packages (from langchain-core<0.2.0,>=0.1.52->langchain-community) (23.2)\n",
      "Requirement already satisfied: pydantic<3,>=1 in c:\\users\\f.dimaio\\appdata\\roaming\\python\\python310\\site-packages (from langchain-core<0.2.0,>=0.1.52->langchain-community) (1.10.17)\n",
      "Requirement already satisfied: orjson<4.0.0,>=3.9.14 in c:\\users\\f.dimaio\\appdata\\roaming\\python\\python310\\site-packages (from langsmith<0.2.0,>=0.1.0->langchain-community) (3.10.1)\n",
      "Requirement already satisfied: charset-normalizer<4,>=2 in c:\\users\\f.dimaio\\appdata\\roaming\\python\\python310\\site-packages (from requests<3,>=2->langchain-community) (3.1.0)\n",
      "Requirement already satisfied: idna<4,>=2.5 in c:\\users\\f.dimaio\\appdata\\roaming\\python\\python310\\site-packages (from requests<3,>=2->langchain-community) (2.10)\n",
      "Requirement already satisfied: urllib3<3,>=1.21.1 in c:\\users\\f.dimaio\\appdata\\roaming\\python\\python310\\site-packages (from requests<3,>=2->langchain-community) (1.26.16)\n",
      "Requirement already satisfied: certifi>=2017.4.17 in c:\\users\\f.dimaio\\appdata\\roaming\\python\\python310\\site-packages (from requests<3,>=2->langchain-community) (2023.5.7)\n",
      "Requirement already satisfied: typing-extensions>=4.2.0 in c:\\users\\f.dimaio\\appdata\\roaming\\python\\python310\\site-packages (from SQLAlchemy<3,>=1.4->langchain-community) (4.11.0)\n",
      "Requirement already satisfied: greenlet!=0.4.17 in c:\\users\\f.dimaio\\appdata\\roaming\\python\\python310\\site-packages (from SQLAlchemy<3,>=1.4->langchain-community) (2.0.2)\n",
      "Requirement already satisfied: jsonpointer>=1.9 in c:\\program files\\python310\\lib\\site-packages (from jsonpatch<2.0,>=1.33->langchain-core<0.2.0,>=0.1.52->langchain-community) (2.4)\n",
      "Requirement already satisfied: mypy-extensions>=0.3.0 in c:\\users\\f.dimaio\\appdata\\roaming\\python\\python310\\site-packages (from typing-inspect<1,>=0.4.0->dataclasses-json<0.7,>=0.5.7->langchain-community) (1.0.0)\n"
     ]
    },
    {
     "name": "stderr",
     "output_type": "stream",
     "text": [
      "WARNING: Ignoring invalid distribution -rotobuf (c:\\users\\f.dimaio\\appdata\\roaming\\python\\python310\\site-packages)\n",
      "WARNING: Ignoring invalid distribution -rotobuf (c:\\users\\f.dimaio\\appdata\\roaming\\python\\python310\\site-packages)\n",
      "\n",
      "[notice] A new release of pip is available: 24.0 -> 24.1.2\n",
      "[notice] To update, run: python.exe -m pip install --upgrade pip\n"
     ]
    }
   ],
   "source": [
    "!pip install langchain-community"
   ]
  },
  {
   "cell_type": "code",
   "execution_count": 3,
   "id": "0a7b91f1-5947-4129-a16b-90365c03380d",
   "metadata": {},
   "outputs": [
    {
     "name": "stdout",
     "output_type": "stream",
     "text": [
      "Defaulting to user installation because normal site-packages is not writeable\n",
      "Requirement already satisfied: pandas in c:\\users\\f.dimaio\\appdata\\roaming\\python\\python310\\site-packages (2.0.3)\n",
      "Requirement already satisfied: python-dateutil>=2.8.2 in c:\\program files\\python310\\lib\\site-packages (from pandas) (2.8.2)\n",
      "Requirement already satisfied: pytz>=2020.1 in c:\\users\\f.dimaio\\appdata\\roaming\\python\\python310\\site-packages (from pandas) (2023.3)\n",
      "Requirement already satisfied: tzdata>=2022.1 in c:\\users\\f.dimaio\\appdata\\roaming\\python\\python310\\site-packages (from pandas) (2023.3)\n",
      "Requirement already satisfied: numpy>=1.21.0 in c:\\users\\f.dimaio\\appdata\\roaming\\python\\python310\\site-packages (from pandas) (1.23.5)\n",
      "Requirement already satisfied: six>=1.5 in c:\\users\\f.dimaio\\appdata\\roaming\\python\\python310\\site-packages (from python-dateutil>=2.8.2->pandas) (1.16.0)\n"
     ]
    },
    {
     "name": "stderr",
     "output_type": "stream",
     "text": [
      "WARNING: Ignoring invalid distribution -rotobuf (c:\\users\\f.dimaio\\appdata\\roaming\\python\\python310\\site-packages)\n",
      "WARNING: Ignoring invalid distribution -rotobuf (c:\\users\\f.dimaio\\appdata\\roaming\\python\\python310\\site-packages)\n",
      "\n",
      "[notice] A new release of pip is available: 24.0 -> 24.1.2\n",
      "[notice] To update, run: python.exe -m pip install --upgrade pip\n"
     ]
    }
   ],
   "source": [
    "!pip install pandas"
   ]
  },
  {
   "cell_type": "code",
   "execution_count": 4,
   "id": "b7d7ddf1-da80-4bae-bcf0-53e120f0f55a",
   "metadata": {},
   "outputs": [],
   "source": [
    "from langchain_community.llms import Ollama\n",
    "from langchain_core.prompts import PromptTemplate\n",
    "from langchain_core.runnables import RunnableSequence\n",
    "\n",
    "import logging\n",
    "import time\n",
    "import pandas as pd\n",
    "import logging\n",
    "import csv\n",
    "import time\n",
    "import os\n",
    "from tqdm import tqdm\n",
    "logging.basicConfig(level=logging.INFO, format='%(asctime)s - %(levelname)s - %(message)s')"
   ]
  },
  {
   "cell_type": "code",
   "execution_count": 5,
   "id": "82ff06e2-e1ee-40ce-9dbf-e6c95bbc4066",
   "metadata": {},
   "outputs": [],
   "source": [
    "def sample_reviews_from_csv(file_path, sample_size=5000):\n",
    "    try:\n",
    "        df = pd.read_csv(file_path)\n",
    "        if 'review' not in df.columns:\n",
    "            logging.error(\"The 'review' column is not present in the dataset.\")\n",
    "            return None\n",
    "        sample_df = df.sample(n=sample_size, random_state=1)  # random_state for reproducibility\n",
    "        sample_file_path = 'sampled_reviews.csv'\n",
    "        sample_df.to_csv(sample_file_path, index=False)\n",
    "        return sample_file_path\n",
    "    except FileNotFoundError:\n",
    "        logging.error(f\"File {file_path} not found.\")\n",
    "        return None\n",
    "    except pd.errors.EmptyDataError:\n",
    "        logging.error(\"The CSV file is empty.\")\n",
    "        return None\n",
    "    except pd.errors.ParserError:\n",
    "        logging.error(\"Error parsing the CSV file.\")\n",
    "        return None"
   ]
  },
  {
   "cell_type": "code",
   "execution_count": 6,
   "id": "080ee4e8-355c-4660-9282-49b0040fb90c",
   "metadata": {},
   "outputs": [],
   "source": [
    "def load_reviews_from_csv(file_path):\n",
    "    reviews = []\n",
    "    try:\n",
    "        with open(file_path, 'r', encoding='utf-8') as csvfile:\n",
    "            reader = csv.DictReader(csvfile)\n",
    "            for row in reader:\n",
    "                reviews.append(row)\n",
    "    except FileNotFoundError:\n",
    "        logging.error(f\"File {file_path} not found.\")\n",
    "    except csv.Error as e:\n",
    "        logging.error(f\"Error reading CSV file: {e}\")\n",
    "    return reviews"
   ]
  },
  {
   "cell_type": "code",
   "execution_count": 7,
   "id": "3df14d59-1f23-4567-b944-d3b9580de3df",
   "metadata": {},
   "outputs": [],
   "source": [
    "def load_text(file_path):\n",
    "    try:\n",
    "        with open(file_path, \"r\", encoding=\"utf-8\") as file:\n",
    "            return file.read()\n",
    "    except FileNotFoundError:\n",
    "        logging.error(f\"File {file_path} not found.\")\n",
    "        return None\n"
   ]
  },
  {
   "cell_type": "code",
   "execution_count": 8,
   "id": "b4660b66-31eb-4f84-80f7-b0b864de2c62",
   "metadata": {},
   "outputs": [],
   "source": [
    "def format_text(text, words_per_line):\n",
    "    words = text.split()\n",
    "    formatted_text = ''\n",
    "    for i in range(0, len(words), words_per_line):\n",
    "        formatted_text += ' '.join(words[i:i+words_per_line]) + '\\n'\n",
    "    return formatted_text"
   ]
  },
  {
   "cell_type": "code",
   "execution_count": 9,
   "id": "2fdf60a4-7e1b-4465-9ad1-076e637511d8",
   "metadata": {},
   "outputs": [],
   "source": [
    "def process_review(review, chain):\n",
    "    try:\n",
    "        start_time = time.time()\n",
    "        output = chain.invoke({\"content\": review})\n",
    "        end_time = time.time()\n",
    "        processing_time = end_time - start_time\n",
    "        return output, processing_time\n",
    "    except Exception as e:\n",
    "        logging.error(f\"Error invoking the chain: {e}\")\n",
    "        return None, None"
   ]
  },
  {
   "cell_type": "code",
   "execution_count": 11,
   "id": "1ff50f58-66af-40df-b0e4-893dc77f8c66",
   "metadata": {},
   "outputs": [
    {
     "name": "stderr",
     "output_type": "stream",
     "text": [
      "Processing Reviews: 100%|███████████████████████████████████████████████████████████████████████████████████████████████████████████████████████████████████████████████████████████████████████████████████████| 5000/5000 [14:31:23<00:00, 10.46s/it]\n",
      "2024-07-23 02:49:12,157 - INFO - Results saved to sampled_reviews_with_output.csv\n",
      "2024-07-23 02:49:12,157 - INFO - Completed processing.\n"
     ]
    }
   ],
   "source": [
    "def call_model_LLM(csv_file_path):\n",
    "    sample_file_path = sample_reviews_from_csv(csv_file_path)\n",
    "    if not sample_file_path:\n",
    "        logging.warning(\"No sampled file to process.\")\n",
    "        return\n",
    "\n",
    "    reviews = load_reviews_from_csv(sample_file_path)\n",
    "    if not reviews:\n",
    "        logging.warning(\"No reviews found in the sampled CSV file.\")\n",
    "        return\n",
    "\n",
    "    prompt_template = load_text(\"single_call.txt\")\n",
    "    if not prompt_template:\n",
    "        logging.warning(\"Prompt template is empty or not found.\")\n",
    "        return\n",
    "\n",
    "    chain = RunnableSequence(\n",
    "        PromptTemplate.from_template(prompt_template) | Ollama(model=\"llama3\")\n",
    "    )\n",
    "\n",
    "    results = []\n",
    "    output_file_path = \"sampled_reviews_with_output.csv\"\n",
    "    \n",
    "    # Create or clear the output file at the start\n",
    "    if not os.path.exists(output_file_path):\n",
    "        with open(output_file_path, 'w', newline='', encoding='utf-8') as f:\n",
    "            writer = csv.writer(f)\n",
    "            writer.writerow(['progressive_index', 'review', 'column2', 'column3', 'column4', 'output'])  # Write header\n",
    "\n",
    "    try:\n",
    "        # Use tqdm for the progress bar\n",
    "        for i, review in enumerate(tqdm(reviews, desc=\"Processing Reviews\")):\n",
    "            # Add a progressive index to each review\n",
    "            review['progressive_index'] = i + 1\n",
    "            formatted_review = format_text(review['review'], 30)\n",
    "            output, _ = process_review(review['review'], chain)\n",
    "\n",
    "            review['output'] = output if output else \"No output generated.\"\n",
    "            results.append(review)\n",
    "\n",
    "            # Save progress after each review\n",
    "            df_results = pd.DataFrame(results)\n",
    "            df_results.to_csv(output_file_path, index=False, encoding=\"utf-8\")\n",
    "\n",
    "        logging.info(f\"Results saved to {output_file_path}\")\n",
    "\n",
    "    except Exception as e:\n",
    "        logging.error(f\"An error occurred: {e}\")\n",
    "\n",
    "    finally:\n",
    "        logging.info(\"Completed processing.\")\n",
    "\n",
    "csv_file_path = \"IMDB_Dataset_Enriched.csv\"\n",
    "call_model_LLM(csv_file_path)\n"
   ]
  },
  {
   "cell_type": "code",
   "execution_count": null,
   "id": "6a8575fd-1ee7-44e8-986a-af684a6da0b6",
   "metadata": {},
   "outputs": [],
   "source": []
  }
 ],
 "metadata": {
  "kernelspec": {
   "display_name": "Python 3 (ipykernel)",
   "language": "python",
   "name": "python3"
  },
  "language_info": {
   "codemirror_mode": {
    "name": "ipython",
    "version": 3
   },
   "file_extension": ".py",
   "mimetype": "text/x-python",
   "name": "python",
   "nbconvert_exporter": "python",
   "pygments_lexer": "ipython3",
   "version": "3.10.11"
  }
 },
 "nbformat": 4,
 "nbformat_minor": 5
}
