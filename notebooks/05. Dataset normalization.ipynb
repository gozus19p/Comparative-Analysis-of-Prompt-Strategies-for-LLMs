{
 "cells": [
  {
   "cell_type": "code",
   "id": "initial_id",
   "metadata": {
    "collapsed": true,
    "ExecuteTime": {
     "end_time": "2024-09-09T15:05:11.226542Z",
     "start_time": "2024-09-09T15:05:08.726106Z"
    }
   },
   "source": [
    "%%capture\n",
    "!pip install pandas"
   ],
   "outputs": [],
   "execution_count": 1
  },
  {
   "metadata": {},
   "cell_type": "markdown",
   "source": [
    "# Dataset normalization\n",
    "\n",
    "Here the intent is to clean up data, post-processing the output received from the LLMs.\n"
   ],
   "id": "f2a2c131a9f21e85"
  },
  {
   "metadata": {
    "ExecuteTime": {
     "end_time": "2024-09-09T15:09:40.484969Z",
     "start_time": "2024-09-09T15:09:40.481208Z"
    }
   },
   "cell_type": "code",
   "source": [
    "from typing import List\n",
    "import os\n",
    "\n",
    "resources_path: str = os.path.join(\"..\", \"resources\")\n",
    "\n",
    "MODELS: List[str] = [\"llama3.1\", \"mistral_7b\", \"phi3_medium\", \"qwen2_7b\", \"gemma2_9b\"]\n",
    "\n",
    "DATASET_PATHS: List[str] = []\n",
    "for model in MODELS:\n",
    "    DATASET_PATHS.append(f\"{resources_path}/{model}/sampled_reviews_with_output_multicall_{model}.csv\")\n",
    "    DATASET_PATHS.append(f\"{resources_path}/{model}/sampled_reviews_with_output_{model}.csv\")\n",
    "\n",
    "assert all([os.path.exists(path) for path in DATASET_PATHS]), \"All dataset must exists! Please, check\"\n",
    "\n",
    "DATASET_PATHS"
   ],
   "id": "5686816f262a2da7",
   "outputs": [
    {
     "data": {
      "text/plain": [
       "['../resources/llama3.1/sampled_reviews_with_output_multicall_llama3.1.csv',\n",
       " '../resources/llama3.1/sampled_reviews_with_output_llama3.1.csv',\n",
       " '../resources/mistral_7b/sampled_reviews_with_output_multicall_mistral_7b.csv',\n",
       " '../resources/mistral_7b/sampled_reviews_with_output_mistral_7b.csv',\n",
       " '../resources/phi3_medium/sampled_reviews_with_output_multicall_phi3_medium.csv',\n",
       " '../resources/phi3_medium/sampled_reviews_with_output_phi3_medium.csv',\n",
       " '../resources/qwen2_7b/sampled_reviews_with_output_multicall_qwen2_7b.csv',\n",
       " '../resources/qwen2_7b/sampled_reviews_with_output_qwen2_7b.csv']"
      ]
     },
     "execution_count": 6,
     "metadata": {},
     "output_type": "execute_result"
    }
   ],
   "execution_count": 6
  },
  {
   "metadata": {
    "ExecuteTime": {
     "end_time": "2024-09-09T15:14:17.846053Z",
     "start_time": "2024-09-09T15:14:17.610365Z"
    }
   },
   "cell_type": "code",
   "source": [
    "import pandas as pd\n",
    "\n",
    "sampled: pd.DataFrame = pd.read_csv(\"../resources/IMDB Dataset Sampled.csv\")\n",
    "p_indexes: List[int] = sampled[\"progressive_index\"].tolist()\n",
    "\n",
    "\n",
    "def check_for_no_case_missing(dataframe_: pd.DataFrame) -> None:\n",
    "    total_cases_count = len(dataframe_)\n",
    "    assert total_cases_count == 1000, f\"There must be 1.000 cases, but {total_cases_count}\"\n",
    "\n",
    "    missing_rows: pd.DataFrame = dataframe_[~dataframe_.progressive_index.isin(p_indexes)]\n",
    "    missing_rows_count = len(missing_rows)\n",
    "    assert missing_rows_count == 0, f\"There are missing progressive indexes {missing_rows_count}\"\n",
    "\n",
    "    not_processed: pd.DataFrame = dataframe_[dataframe_.output == \"$$$\"]\n",
    "    not_processed_count = len(not_processed)\n",
    "    assert not_processed_count == 0, f\"There are missing outputs {not_processed_count}\"\n",
    "    pass"
   ],
   "id": "ac665eaa07f6f371",
   "outputs": [],
   "execution_count": 7
  },
  {
   "metadata": {
    "ExecuteTime": {
     "end_time": "2024-09-09T15:15:52.370641Z",
     "start_time": "2024-09-09T15:15:52.366428Z"
    }
   },
   "cell_type": "code",
   "source": [
    "ALLOWED_COLUMNS: List[str] = [\"review\", \"sentiment\", \"entities\", \"json\", \"progressive_index\", \"output\"]\n",
    "\n",
    "\n",
    "def drop_unnecessary_columns(dataframe_: pd.DataFrame) -> pd.DataFrame:\n",
    "    columns_to_remove: List[str] = [col for col in dataframe_.columns.tolist() if col not in ALLOWED_COLUMNS]\n",
    "    dataframe_.drop(columns=columns_to_remove, inplace=True)\n",
    "    return dataframe_"
   ],
   "id": "1522bbd432abe586",
   "outputs": [],
   "execution_count": 8
  },
  {
   "metadata": {
    "ExecuteTime": {
     "end_time": "2024-09-09T15:17:32.991626Z",
     "start_time": "2024-09-09T15:17:32.986737Z"
    }
   },
   "cell_type": "code",
   "source": [
    "import re\n",
    "\n",
    "\n",
    "def extract_json_output(row: pd.DataFrame) -> pd.DataFrame:\n",
    "    output: str = row[\"output\"]\n",
    "    # Removing comments in form of //\n",
    "    output = re.sub(pattern=r\"(?<!\\S)//.*?$\", flags=re.MULTILINE, string=output, repl=\"\")\n",
    "    # Extracting JSON-only\n",
    "    groups = re.findall(pattern=r\"(\\{.*})\", flags=re.DOTALL, string=output)\n",
    "    groups_count = len(groups)\n",
    "    assert groups_count == 1, f\"There must be exactly one group, but {groups_count}\"\n",
    "\n",
    "    row[\"json_output\"] = groups[0]\n",
    "    return row\n"
   ],
   "id": "2e4c3526365bc7f2",
   "outputs": [],
   "execution_count": 9
  },
  {
   "metadata": {},
   "cell_type": "code",
   "outputs": [],
   "execution_count": null,
   "source": [
    "for dataset_path in DATASET_PATHS:\n",
    "    dataframe_: pd.DataFrame = pd.read_csv(dataset_path)\n",
    "    check_for_no_case_missing(dataframe_)\n",
    "    drop_unnecessary_columns(dataframe_)\n",
    "    dataframe: pd.DataFrame = dataframe_.apply(lambda row: extract_json_output(row), axis=1)\n",
    "    dataframe.to_csv(dataset_path, index=False)\n"
   ],
   "id": "f5a1605dbd284ce0"
  }
 ],
 "metadata": {
  "kernelspec": {
   "display_name": "Python 3",
   "language": "python",
   "name": "python3"
  },
  "language_info": {
   "codemirror_mode": {
    "name": "ipython",
    "version": 2
   },
   "file_extension": ".py",
   "mimetype": "text/x-python",
   "name": "python",
   "nbconvert_exporter": "python",
   "pygments_lexer": "ipython2",
   "version": "2.7.6"
  }
 },
 "nbformat": 4,
 "nbformat_minor": 5
}
