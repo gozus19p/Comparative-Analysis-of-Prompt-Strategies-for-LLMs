{
 "cells": [
  {
   "cell_type": "code",
   "id": "83e3c69b-8ec6-4ad8-8e28-8ef97747ac71",
   "metadata": {
    "ExecuteTime": {
     "end_time": "2024-08-01T14:03:05.185490Z",
     "start_time": "2024-08-01T14:03:03.648912Z"
    }
   },
   "source": [
    "%%capture\n",
    "!pip install pandas ollama tqdm"
   ],
   "outputs": [],
   "execution_count": 1
  },
  {
   "metadata": {
    "ExecuteTime": {
     "end_time": "2024-08-01T14:03:05.189802Z",
     "start_time": "2024-08-01T14:03:05.186898Z"
    }
   },
   "cell_type": "code",
   "source": [
    "NER_PROMPT = \"\"\"Analyze the following review text indicating whether the sentiment of the review is \"positive\" or \"negative\".\n",
    "Ensure the response is formatted in JSON according to the following schema:\n",
    "\n",
    "[\n",
    "  {{\n",
    "    \"label\": \"<label>\",\n",
    "    \"value\": \"<value>\"\n",
    "  }}\n",
    "]\n",
    "\n",
    "Example:\n",
    "\n",
    "\"I recently visited the restaurant 'La Dolce Vita' in Rome and was thrilled with the service and food. The waiter, Marco, was exceptionally friendly and the truffle risotto was simply divine. I can't wait to return and recommend this place to my friends.\"\n",
    "\n",
    "[\n",
    "  {{\n",
    "    \"label\": \"ORG\",\n",
    "    \"value\": \"La Dolce Vita\"\n",
    "  }},\n",
    "  {{\n",
    "    \"label\": \"LOC\",\n",
    "    \"value\": \"Rome\"\n",
    "  }},\n",
    "  {{\n",
    "    \"label\": \"PERSON\",\n",
    "    \"value\": \"Marco\"\n",
    "  }}\n",
    "]\n",
    "\n",
    "{content}\"\"\"\n",
    "\n",
    "SENTIMENT_PROMPT = \"\"\"Analyze the following review text listing all named entities present in the text, categorizing them by label. Consider only PERSON, ORG, and LOC categories.\n",
    "\n",
    "Example:\n",
    "\n",
    "\"I recently visited the restaurant 'La Dolce Vita' in Rome and was thrilled with the service and food. The waiter, Marco, was exceptionally friendly and the truffle risotto was simply divine. I can't wait to return and recommend this place to my friends.\"\n",
    "\n",
    "\"positive\"\n",
    "\n",
    "{content}\"\"\"\n",
    "\n",
    "FORMATTING_OUTPUT = \"\"\"You are given three informations: sentiment, review and entities. Generate a JSON representation using the following schema. Use just the data you receive:\n",
    "\n",
    "{{\n",
    "  \"sentiment\": \"<sentiment>\",\n",
    "  \"review\": \"<review>\",\n",
    "  \"entities\": [\n",
    "    {{\n",
    "      \"label\": \"<label>\",\n",
    "      \"value\": \"<value>\"\n",
    "    }}\n",
    "  ]\n",
    "}}\n",
    "\n",
    "example:\n",
    "\n",
    "\"Sentiment: positive\n",
    "Review: I recently visited the restaurant 'La Dolce Vita' in Rome and was thrilled with the service and food. The waiter, Marco, was exceptionally friendly and the truffle risotto was simply divine. I can't wait to return and recommend this place to my friends.\n",
    "Entities: [\n",
    "    {{\n",
    "      \"label\": \"ORG\",\n",
    "      \"value\": \"La Dolce Vita\"\n",
    "    }},\n",
    "    {{\n",
    "      \"label\": \"LOC\",\n",
    "      \"value\": \"Rome\"\n",
    "    }},\n",
    "    {{\n",
    "      \"label\": \"PERSON\",\n",
    "      \"value\": \"Marco\"\n",
    "    }}\n",
    "  ]\"\n",
    "\n",
    "```json\n",
    "{{\n",
    "  \"sentiment\": \"positive\",\n",
    "  \"review\": \"I recently visited the restaurant 'La Dolce Vita' in Rome and was thrilled with the service and food. The waiter, Marco, was exceptionally friendly and the truffle risotto was simply divine. I can't wait to return and recommend this place to my friends.\",\n",
    "  \"entities\": [\n",
    "    {{\n",
    "      \"label\": \"ORG\",\n",
    "      \"value\": \"La Dolce Vita\"\n",
    "    }},\n",
    "    {{\n",
    "      \"label\": \"LOC\",\n",
    "      \"value\": \"Rome\"\n",
    "    }},\n",
    "    {{\n",
    "      \"label\": \"PERSON\",\n",
    "      \"value\": \"Marco\"\n",
    "    }}\n",
    "  ]\n",
    "}}\n",
    "```\n",
    "\n",
    "\n",
    "Sentiment: {sentiment}\n",
    "Review: {review}\n",
    "Entities: {entities}\"\"\""
   ],
   "id": "570a6d8821b59b1",
   "outputs": [],
   "execution_count": 2
  },
  {
   "cell_type": "code",
   "id": "2fdf60a4-7e1b-4465-9ad1-076e637511d8",
   "metadata": {
    "ExecuteTime": {
     "end_time": "2024-08-01T14:03:05.263547Z",
     "start_time": "2024-08-01T14:03:05.190589Z"
    }
   },
   "source": [
    "import ollama\n",
    "\n",
    "def process_review(review: str, model_name: str) -> str:\n",
    "    \"\"\"\n",
    "    It processes the review text and returns the LLM response as string.\n",
    "    \n",
    "    Arguments:\n",
    "        review (str): The review text.\n",
    "        \n",
    "    Return:\n",
    "        The LLM response as string.\n",
    "    \"\"\"\n",
    "    try:\n",
    "        sentiment_response: str = ollama.generate(\n",
    "            model=model_name,\n",
    "            prompt=SENTIMENT_PROMPT.format(content=review)\n",
    "        )[\"response\"]\n",
    "    except Exception as e:\n",
    "        print(f\"Error invoking the chain at sentiment stage: {e}\")\n",
    "        return None\n",
    "\n",
    "    try:\n",
    "        ner_response: str = ollama.generate(\n",
    "            model=model_name,\n",
    "            prompt=NER_PROMPT.format(content=review)\n",
    "        )[\"response\"]\n",
    "    except Exception as e:\n",
    "        print(f\"Error invoking the chain at NER stage: {e}\")\n",
    "        return None\n",
    "    \n",
    "    try:\n",
    "        return ollama.generate(\n",
    "            model=model_name,\n",
    "            prompt=FORMATTING_OUTPUT.format(review=review, sentiment=sentiment_response, entities=ner_response)\n",
    "        )[\"response\"]\n",
    "    except Exception as e:\n",
    "        print(f\"Error invoking the chain at formatting stage: {e}\")\n",
    "        return None\n",
    "        \n",
    "        "
   ],
   "outputs": [],
   "execution_count": 3
  },
  {
   "cell_type": "code",
   "id": "1ff50f58-66af-40df-b0e4-893dc77f8c66",
   "metadata": {
    "ExecuteTime": {
     "end_time": "2024-08-01T14:29:05.413179Z",
     "start_time": "2024-08-01T14:29:05.409490Z"
    }
   },
   "source": [
    "import pandas as pd\n",
    "from tqdm import tqdm\n",
    "\n",
    "\n",
    "def call_model_llm(model_name: str, output_file_path: str) -> None:\n",
    "    \"\"\"\n",
    "    It calls the LLM model using Ollama. It returns the sampled dataframe enriched with relevant columns.\n",
    "    \n",
    "    Arguments:\n",
    "        model_name: The name of the model to invoke via Ollama.\n",
    "    \n",
    "    Return:\n",
    "        The enriched dataframe.\n",
    "    \"\"\"\n",
    "    dataframe: pd.DataFrame = pd.read_csv(output_file_path)\n",
    "    already_done_part: pd.DataFrame = dataframe[~(dataframe.output == \"$$$\")].copy()\n",
    "    slice_to_work_on: pd.DataFrame = dataframe[dataframe.output == \"$$$\"].copy()\n",
    "    slice_to_work_on.reset_index(inplace=True, drop=True)\n",
    "    total_rows: int = len(slice_to_work_on)\n",
    "    for i in tqdm(range(total_rows), total=total_rows):\n",
    "        row = slice_to_work_on.iloc[i]\n",
    "        # logging.info(f\"Processing row {i + 1} out of {total_rows}\")\n",
    "        result = process_review(row[\"review\"], model_name)\n",
    "        slice_to_work_on.loc[i, \"output\"] = result\n",
    "        updated_df: pd.DataFrame = pd.concat([already_done_part, slice_to_work_on])\n",
    "        updated_df.to_csv(output_file_path, index=False)"
   ],
   "outputs": [],
   "execution_count": 8
  },
  {
   "cell_type": "code",
   "id": "6a8575fd-1ee7-44e8-986a-af684a6da0b6",
   "metadata": {
    "ExecuteTime": {
     "end_time": "2024-08-01T14:35:19.796321Z",
     "start_time": "2024-08-01T14:35:19.756370Z"
    }
   },
   "source": [
    "import os\n",
    "\n",
    "# Define the model name to use\n",
    "MODEL_NAME: str = \"phi3:medium\"\n",
    "\n",
    "# Define the output path and get the result as csv\n",
    "output_file_path: str = f\"../resources/sampled_reviews_with_output_multicall_{MODEL_NAME.replace(':', '_')}.csv\"\n",
    "\n",
    "exists: bool = os.path.exists(output_file_path)\n",
    "if not exists:\n",
    "    sampled: pd.DataFrame = pd.read_csv(\"../resources/IMDB Dataset Sampled.csv\")\n",
    "    sampled[\"output\"] = sampled.apply(lambda row: \"$$$\", axis=1)\n",
    "    sampled.to_csv(output_file_path, index=False)\n",
    "\n",
    "call_model_llm(model_name=MODEL_NAME, output_file_path=output_file_path)"
   ],
   "outputs": [
    {
     "name": "stderr",
     "output_type": "stream",
     "text": [
      "0it [00:00, ?it/s]\n"
     ]
    }
   ],
   "execution_count": 10
  },
  {
   "metadata": {
    "ExecuteTime": {
     "end_time": "2024-08-01T14:03:28.047863Z",
     "start_time": "2024-08-01T14:03:28.047808Z"
    }
   },
   "cell_type": "code",
   "source": "",
   "id": "ddee185f667eeaac",
   "outputs": [],
   "execution_count": null
  }
 ],
 "metadata": {
  "kernelspec": {
   "display_name": "Python 3 (ipykernel)",
   "language": "python",
   "name": "python3"
  },
  "language_info": {
   "codemirror_mode": {
    "name": "ipython",
    "version": 3
   },
   "file_extension": ".py",
   "mimetype": "text/x-python",
   "name": "python",
   "nbconvert_exporter": "python",
   "pygments_lexer": "ipython3",
   "version": "3.10.11"
  }
 },
 "nbformat": 4,
 "nbformat_minor": 5
}
