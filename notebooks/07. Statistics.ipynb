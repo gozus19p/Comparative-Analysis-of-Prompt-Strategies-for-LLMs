{
 "cells": [
  {
   "cell_type": "code",
   "id": "initial_id",
   "metadata": {
    "collapsed": true,
    "ExecuteTime": {
     "end_time": "2024-09-11T08:30:52.937142Z",
     "start_time": "2024-09-11T08:30:51.513241Z"
    }
   },
   "source": [
    "%%capture\n",
    "!pip install pandas"
   ],
   "outputs": [],
   "execution_count": 1
  },
  {
   "metadata": {
    "ExecuteTime": {
     "end_time": "2024-09-11T08:36:18.006832Z",
     "start_time": "2024-09-11T08:36:18.002768Z"
    }
   },
   "cell_type": "code",
   "source": [
    "import pandas as pd\n",
    "\n",
    "class Experiment:\n",
    "    __model_name: str\n",
    "    __single_call_dataset: pd.DataFrame\n",
    "    __multi_call_dataset: pd.DataFrame\n",
    "\n",
    "    def __init__(self, model_name: str, single_call_dataset: pd.DataFrame, multi_call_dataset: pd.DataFrame):\n",
    "        self.__model_name = model_name\n",
    "        self.__single_call_dataset = single_call_dataset\n",
    "        self.__multi_call_dataset = multi_call_dataset\n",
    "        assert self.__multi_call_dataset is not None\n",
    "        assert self.__single_call_dataset is not None\n",
    "\n",
    "    @property\n",
    "    def model_name(self):\n",
    "        return self.__model_name\n",
    "\n",
    "    @property\n",
    "    def single_call_dataset(self):\n",
    "        return self.__single_call_dataset.copy()\n",
    "\n",
    "    @property\n",
    "    def multi_call_dataset(self):\n",
    "        return self.__multi_call_dataset.copy()\n",
    "    \n",
    "    def __repr__(self):\n",
    "        return f\"{self.__model_name} Experiment\""
   ],
   "id": "8bce1172e7ed5f4d",
   "outputs": [],
   "execution_count": 7
  },
  {
   "metadata": {
    "ExecuteTime": {
     "end_time": "2024-09-11T08:36:18.910886Z",
     "start_time": "2024-09-11T08:36:18.472991Z"
    }
   },
   "cell_type": "code",
   "source": [
    "from typing import List, Dict\n",
    "from os import listdir\n",
    "from os.path import join, isdir\n",
    "\n",
    "resources_path: str = join(\"..\", \"resources\")\n",
    "\n",
    "MODELS: List[str] = [d for d in listdir(resources_path) if isdir(join(resources_path, d))]\n",
    "\n",
    "EXPERIMENTS: Dict[str, Experiment] = {}\n",
    "for model in MODELS:\n",
    "    single_call_df_: pd.DataFrame = pd.read_csv(f\"{resources_path}/{model}/sampled_reviews_with_output_multicall_{model}.csv\")\n",
    "    multi_call_df_: pd.DataFrame = pd.read_csv(f\"{resources_path}/{model}/sampled_reviews_with_output_{model}.csv\")\n",
    "    EXPERIMENTS[model] = Experiment(model_name=model, single_call_dataset=single_call_df_, multi_call_dataset=multi_call_df_)\n",
    "\n",
    "EXPERIMENTS"
   ],
   "id": "945a69167973475f",
   "outputs": [
    {
     "data": {
      "text/plain": [
       "{'gemma2_9b': gemma2_9b Experiment,\n",
       " 'qwen2_7b': qwen2_7b Experiment,\n",
       " 'llama3.1': llama3.1 Experiment,\n",
       " 'phi3_medium': phi3_medium Experiment,\n",
       " 'mistral_7b': mistral_7b Experiment}"
      ]
     },
     "execution_count": 8,
     "metadata": {},
     "output_type": "execute_result"
    }
   ],
   "execution_count": 8
  },
  {
   "metadata": {},
   "cell_type": "code",
   "outputs": [],
   "execution_count": null,
   "source": "",
   "id": "87c34623eeda14a8"
  }
 ],
 "metadata": {
  "kernelspec": {
   "display_name": "Python 3",
   "language": "python",
   "name": "python3"
  },
  "language_info": {
   "codemirror_mode": {
    "name": "ipython",
    "version": 2
   },
   "file_extension": ".py",
   "mimetype": "text/x-python",
   "name": "python",
   "nbconvert_exporter": "python",
   "pygments_lexer": "ipython2",
   "version": "2.7.6"
  }
 },
 "nbformat": 4,
 "nbformat_minor": 5
}
